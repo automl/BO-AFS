{
 "cells": [
  {
   "cell_type": "markdown",
   "metadata": {},
   "source": [
    "Reformat the initial design for the ELA computation R script"
   ]
  },
  {
   "cell_type": "code",
   "execution_count": null,
   "metadata": {},
   "outputs": [],
   "source": [
    "import ast\n",
    "from ast import parse\n",
    "import numpy as np\n",
    "import pandas as pd\n",
    "import os\n",
    "\n",
    "\n",
    "def parse_initial_design(fin, fout):\n",
    "    df = pd.read_csv(fin)\n",
    "    df = df[df['point_id'] < 50]\n",
    "\n",
    "    df['search_point'] = df['search_point'].apply(ast.literal_eval)\n",
    "\n",
    "    columns = ['bbob_dimension', 'bbob_function', 'bbob_instance', 'seed', 'point_id', 'search_point', 'fitness']\n",
    "\n",
    "    df2 = df[columns].copy()\n",
    "    df2 = df2.sort_values(by = ['bbob_function', 'bbob_instance', 'seed', 'point_id'])\n",
    "    df2.reset_index()\n",
    "\n",
    "    x1, x2, x3, x4, x5 = [], [], [], [], []\n",
    "    for x in df2['search_point']:\n",
    "        x1.append(x[0])\n",
    "        x2.append(x[1])\n",
    "        x3.append(x[2])\n",
    "        x4.append(x[3])\n",
    "        x5.append(x[4])\n",
    "    df2['x1'] = x1\n",
    "    df2['x2'] = x2\n",
    "    df2['x3'] = x3\n",
    "    df2['x4'] = x4\n",
    "    df2['x5'] = x5\n",
    "\n",
    "    df2.to_csv(fout, index=False, header=True)\n",
    "    return df2\n",
    "\n",
    "cwd = os.getcwd()\n",
    "fin = os.path.join(cwd, 'initial_design' + '.' + 'csv')\n",
    "fout = os.path.join(cwd, 'initial_design_parsed' + '.' + 'csv')\n",
    "res = parse_initial_design(fin, fout)\n",
    "\n"
   ]
  }
 ],
 "metadata": {
  "kernelspec": {
   "display_name": "Python 3.9.5 64-bit",
   "language": "python",
   "name": "python3"
  },
  "language_info": {
   "name": "python",
   "version": "3.9.5"
  },
  "orig_nbformat": 4,
  "vscode": {
   "interpreter": {
    "hash": "72d72a6b468801fecd7bd6b5cec6c163cba721f64d36ed6744d00c1d574cb345"
   }
  }
 },
 "nbformat": 4,
 "nbformat_minor": 2
}
