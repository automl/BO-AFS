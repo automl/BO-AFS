{
 "cells": [
  {
   "cell_type": "markdown",
   "metadata": {
    "collapsed": false,
    "pycharm": {
     "name": "#%% md\n"
    }
   },
   "source": [
    "# Paths"
   ]
  },
  {
   "cell_type": "code",
   "execution_count": 1,
   "metadata": {
    "collapsed": false,
    "pycharm": {
     "name": "#%%\n"
    }
   },
   "outputs": [],
   "source": [
    "from pathlib import Path\n",
    "\n",
    "fn_initial_design_raw = Path(\"tmp/meta_learning_bbob/initial_design_raw.csv\")\n",
    "fn_initial_design = Path(\"tmp/meta_learning_bbob/initial_design.csv\")\n",
    "fn_rollout_data = Path(\"tmp/meta_learning_bbob/rollout_data.csv\")\n",
    "figoutdir = \"./tmp/meta_learning_bbob/figures\""
   ]
  },
  {
   "cell_type": "markdown",
   "metadata": {
    "collapsed": false,
    "pycharm": {
     "name": "#%% md\n"
    }
   },
   "source": [
    "# Data Collection and Conversion"
   ]
  },
  {
   "cell_type": "markdown",
   "metadata": {
    "collapsed": false,
    "pycharm": {
     "name": "#%% md\n"
    }
   },
   "source": [
    "## Collect Rollout Data and Raw Initial Designs"
   ]
  },
  {
   "cell_type": "code",
   "execution_count": null,
   "metadata": {
    "collapsed": false,
    "pycharm": {
     "name": "#%%\n"
    }
   },
   "outputs": [],
   "source": [
    "import pandas as pd\n",
    "from download_data import add_regret, load_wandb_table, scale_regret\n",
    "from tqdm import tqdm\n",
    "\n",
    "# import re\n",
    "\n",
    "\n",
    "fn_initial_design_raw.parent.mkdir(parents=True, exist_ok=True)\n",
    "fn_initial_design.parent.mkdir(parents=True, exist_ok=True)\n",
    "fn_rollout_data.parent.mkdir(parents=True, exist_ok=True)\n",
    "\n",
    "\n",
    "exp_paths = [\"/home/benjamin/Dokumente/code/tmp/DAC-BO/exp_sweep/2022-09-24/21-35-50\"]  # budget = 100, 1 instance\n",
    "exp_paths = [  # budget = 100, 5 instances\n",
    "    \"/home/benjamin/Dokumente/code/tmp/DAC-BO/exp_sweep/2022-09-26/16-12-12\",\n",
    "    \"/home/benjamin/Dokumente/code/tmp/DAC-BO/exp_sweep/2022-09-26/16-12-41\",\n",
    "    \"/home/benjamin/Dokumente/code/tmp/DAC-BO/exp_sweep/2022-09-29/18-14-55\",  # missing dim5,f17,i1,s1-31, budget=200\n",
    "]\n",
    "\n",
    "\n",
    "def flatten(l):\n",
    "    return [item for sublist in l for item in sublist]\n",
    "\n",
    "\n",
    "# pattern_template = \".*{identifier}.*\\\\.table\\\\.json\"\n",
    "def get_paths(exp_paths: list[str]) -> pd.DataFrame:\n",
    "    paths = [Path(p) for p in exp_paths]\n",
    "    runpaths = [list(p.rglob(\"*files/media/table\")) for p in paths]\n",
    "    id_initdesign = \"initial_design\"\n",
    "    id_rollout = \"rollout_data\"\n",
    "    runpaths = flatten(runpaths)\n",
    "    data = []\n",
    "    for p in runpaths:\n",
    "        fn_id = list(p.rglob(\"*\" + id_initdesign + \"*\"))[0]\n",
    "        fn_rd = list(p.rglob(\"*\" + id_rollout + \"*\"))[0]\n",
    "        data.append({\"runpath\": str(p), \"initial_design_fn\": fn_id, \"rollout_data_fn\": fn_rd})\n",
    "    data = pd.DataFrame(data)\n",
    "    return data\n",
    "\n",
    "\n",
    "paths = get_paths(exp_paths)\n",
    "\n",
    "print(\"Load initial designs\")\n",
    "init_designs = pd.concat(\n",
    "    [load_wandb_table(table) for table in tqdm(paths[\"initial_design_fn\"], total=len(paths))]\n",
    ").reset_index(drop=True)\n",
    "# Drop duplicates because we have n_schedules (7) times the same initial design\n",
    "init_designs = init_designs.drop_duplicates(subset=[\"bbob_function\", \"bbob_instance\", \"bbob_dimension\", \"seed\"])\n",
    "print(\"Load rollout data\")\n",
    "rollout_data = pd.concat(\n",
    "    [load_wandb_table(table) for table in tqdm(paths[\"rollout_data_fn\"], total=len(paths))]\n",
    ").reset_index(drop=True)\n",
    "print(\"Add regret\")\n",
    "rollout_data = add_regret(rollout_data)\n",
    "print(\"Scale regret\")\n",
    "rollout_data = scale_regret(rollout_data)\n",
    "\n",
    "print(f\"Save init design to {fn_initial_design_raw}\")\n",
    "init_designs.to_csv(fn_initial_design_raw, index=False)\n",
    "print(f\"Save rollout data to {fn_rollout_data}\")\n",
    "rollout_data.to_csv(fn_rollout_data, index=False)"
   ]
  },
  {
   "cell_type": "code",
   "execution_count": null,
   "metadata": {
    "collapsed": false,
    "pycharm": {
     "name": "#%%\n"
    }
   },
   "outputs": [],
   "source": [
    "# Sanity check\n",
    "import pandas as pd\n",
    "\n",
    "n_schedules = 7\n",
    "n_seeds = 60\n",
    "n_instances = 5\n",
    "n_functions = 24\n",
    "n_doe = 51\n",
    "n_points = n_seeds * n_instances * n_functions\n",
    "\n",
    "doe_raw = pd.read_csv(fn_initial_design_raw)\n",
    "print(len(doe_raw), n_points)\n",
    "\n",
    "print(\"func\", doe_raw[\"bbob_function\"].nunique(), doe_raw[\"bbob_function\"].unique())\n",
    "print(\"inst\", doe_raw[\"bbob_instance\"].nunique(), doe_raw[\"bbob_instance\"].unique())\n",
    "print(\"seed\", doe_raw[\"seed\"].nunique(), doe_raw[\"seed\"].unique())\n",
    "\n",
    "doe_raw.columns"
   ]
  },
  {
   "cell_type": "markdown",
   "metadata": {
    "collapsed": false,
    "pycharm": {
     "name": "#%% md\n"
    }
   },
   "source": [
    "## Convert Raw Init Design (Add Fitness)"
   ]
  },
  {
   "cell_type": "code",
   "execution_count": 2,
   "metadata": {
    "collapsed": false,
    "pycharm": {
     "name": "#%%\n"
    }
   },
   "outputs": [
    {
     "name": "stderr",
     "output_type": "stream",
     "text": [
      " 45%|████▌     | 3267/7200 [00:13<00:15, 251.72it/s]"
     ]
    },
    {
     "name": "stdout",
     "output_type": "stream",
     "text": [
      "23 5 32 52\n",
      "23 5 33 60\n",
      "23 5 35 53\n",
      "23 5 36 54\n",
      "23 5 37 53\n",
      "23 5 42 52\n",
      "23 5 48 52\n",
      "23 5 50 55\n",
      "23 5 52 62\n",
      "23 5 53 56\n",
      "23 5 54 53\n",
      "23 5 55 55\n",
      "23 5 60 53\n",
      "23 3 37 57\n",
      "23 3 39 53\n",
      "23 3 42 53\n",
      "23 3 43 52\n",
      "23 3 44 52\n",
      "23 3 47 55\n",
      "23 3 48 53\n",
      "23 3 50 56\n"
     ]
    },
    {
     "name": "stderr",
     "output_type": "stream",
     "text": [
      " 46%|████▋     | 3345/7200 [00:13<00:15, 251.68it/s]"
     ]
    },
    {
     "name": "stdout",
     "output_type": "stream",
     "text": [
      "23 3 51 54\n",
      "23 3 52 52\n",
      "23 3 55 56\n",
      "23 3 57 52\n",
      "23 3 59 52\n",
      "23 3 60 52\n",
      "23 4 32 54\n",
      "23 4 34 54\n",
      "23 4 37 52\n",
      "23 4 40 60\n",
      "23 4 41 53\n",
      "23 4 42 52\n",
      "23 4 44 55\n",
      "23 4 48 57\n",
      "23 4 49 59\n",
      "23 4 52 63\n",
      "23 4 53 56\n",
      "23 4 54 62\n",
      "23 4 55 59\n",
      "23 4 56 52\n",
      "23 4 58 53\n",
      "23 4 60 57\n"
     ]
    },
    {
     "name": "stderr",
     "output_type": "stream",
     "text": [
      " 48%|████▊     | 3423/7200 [00:14<00:14, 252.11it/s]"
     ]
    },
    {
     "name": "stdout",
     "output_type": "stream",
     "text": [
      "23 2 32 58\n",
      "23 2 34 52\n",
      "23 2 35 53\n",
      "23 2 37 54\n",
      "23 2 38 52\n",
      "23 2 40 55\n",
      "23 2 41 53\n",
      "23 2 42 52\n",
      "23 2 45 57\n",
      "23 2 47 57\n",
      "23 2 48 52\n",
      "23 2 49 57\n",
      "23 2 50 54\n",
      "23 2 53 60\n",
      "23 2 55 55\n",
      "23 2 57 53\n",
      "23 2 58 54\n"
     ]
    },
    {
     "name": "stderr",
     "output_type": "stream",
     "text": [
      " 49%|████▉     | 3527/7200 [00:14<00:15, 242.88it/s]"
     ]
    },
    {
     "name": "stdout",
     "output_type": "stream",
     "text": [
      "23 1 32 58\n",
      "23 1 34 55\n",
      "23 1 36 53\n",
      "23 1 37 54\n",
      "23 1 39 62\n",
      "23 1 40 52\n",
      "23 1 41 52\n",
      "23 1 42 55\n",
      "23 1 44 52\n",
      "23 1 47 52\n",
      "23 1 50 54\n",
      "23 1 52 56\n",
      "23 1 54 52\n",
      "23 1 56 63\n",
      "23 1 57 64\n",
      "23 1 58 54\n"
     ]
    },
    {
     "name": "stderr",
     "output_type": "stream",
     "text": [
      " 96%|█████████▋| 6946/7200 [00:28<00:01, 247.59it/s]"
     ]
    },
    {
     "name": "stdout",
     "output_type": "stream",
     "text": [
      "23 1 2 54\n",
      "23 1 3 52\n",
      "23 1 5 52\n",
      "23 1 6 53\n",
      "23 1 8 52\n",
      "23 1 10 52\n",
      "23 1 11 60\n",
      "23 1 13 53\n",
      "23 1 14 66\n",
      "23 1 15 55\n",
      "23 1 18 53\n",
      "23 1 20 52\n",
      "23 1 21 52\n",
      "23 1 25 52\n",
      "23 1 26 54\n",
      "23 1 28 52\n",
      "23 1 29 52\n",
      "23 1 30 53\n",
      "23 1 31 57\n",
      "23 2 2 52\n",
      "23 2 4 58\n",
      "23 2 5 52\n",
      "23 2 7 52\n",
      "23 2 8 59\n",
      "23 2 9 53\n",
      "23 2 10 56\n",
      "23 2 12 57\n",
      "23 2 17 57\n",
      "23 2 18 52\n",
      "23 2 19 52\n",
      "23 2 20 52\n",
      "23 2 21 57\n",
      "23 2 22 54\n",
      "23 2 23 57\n"
     ]
    },
    {
     "name": "stderr",
     "output_type": "stream",
     "text": [
      " 98%|█████████▊| 7024/7200 [00:28<00:00, 248.78it/s]"
     ]
    },
    {
     "name": "stdout",
     "output_type": "stream",
     "text": [
      "23 2 26 62\n",
      "23 2 27 59\n",
      "23 3 3 53\n",
      "23 3 11 54\n",
      "23 3 12 52\n",
      "23 3 16 52\n",
      "23 3 18 54\n",
      "23 3 22 53\n",
      "23 3 23 52\n",
      "23 3 24 53\n",
      "23 3 25 52\n",
      "23 3 27 52\n",
      "23 3 30 53\n",
      "23 4 1 57\n",
      "23 4 2 55\n",
      "23 4 4 58\n",
      "23 4 5 55\n",
      "23 4 8 52\n",
      "23 4 11 52\n",
      "23 4 13 54\n",
      "23 4 14 57\n",
      "23 4 16 52\n",
      "23 4 19 57\n",
      "23 4 23 52\n",
      "23 4 24 54\n",
      "23 4 26 53\n",
      "23 4 27 54\n",
      "23 4 28 52\n",
      "23 5 1 56\n",
      "23 5 3 56\n",
      "23 5 5 55\n",
      "23 5 6 57\n",
      "23 5 8 63\n",
      "23 5 9 59\n",
      "23 5 10 52\n"
     ]
    },
    {
     "name": "stderr",
     "output_type": "stream",
     "text": [
      " 99%|█████████▊| 7102/7200 [00:28<00:00, 251.57it/s]"
     ]
    },
    {
     "name": "stdout",
     "output_type": "stream",
     "text": [
      "23 5 12 57\n",
      "23 5 13 57\n",
      "23 5 14 52\n",
      "23 5 15 52\n",
      "23 5 16 54\n",
      "23 5 17 53\n",
      "23 5 18 58\n",
      "23 5 19 53\n",
      "23 5 21 59\n",
      "23 5 22 55\n",
      "23 5 23 54\n",
      "23 5 26 65\n",
      "23 5 27 62\n",
      "23 5 30 57\n",
      "23 5 31 54\n"
     ]
    },
    {
     "name": "stderr",
     "output_type": "stream",
     "text": [
      "100%|██████████| 7200/7200 [00:29<00:00, 245.12it/s]\n"
     ]
    }
   ],
   "source": [
    "import pandas as pd\n",
    "import ioh\n",
    "import ast\n",
    "import numpy as np\n",
    "from tqdm import tqdm\n",
    "from typing import Any\n",
    "\n",
    "init_designs = pd.read_csv(fn_initial_design_raw)\n",
    "\n",
    "n_doe = 51\n",
    "\n",
    "\n",
    "def add_fitness_to_init_designs(init_designs: pd.DataFrame) -> pd.DataFrame:\n",
    "    new_df = []\n",
    "    for index, row in tqdm(init_designs.iterrows(), total=len(init_designs)):\n",
    "        inst = row[\"bbob_instance\"]\n",
    "        fid = row[\"bbob_function\"]\n",
    "        dim = row[\"bbob_dimension\"]\n",
    "        seed = row[\"seed\"]\n",
    "        problem = ioh.get_problem(instance=inst, fid=fid, dimension=dim)\n",
    "        X = row[\"initial_design\"]\n",
    "        X = np.array(ast.literal_eval(X))\n",
    "        if len(X) > 51:\n",
    "             #print(fid, inst, seed, len(X))\n",
    "            X = X[:n_doe]\n",
    "        X_str = [np.array2string(x, separator=\",\") for x in X]\n",
    "        Y = np.array([problem(x) for x in X])\n",
    "        optimum = problem.objective.y\n",
    "        regret = Y - optimum\n",
    "        n = len(X)\n",
    "\n",
    "        def tovec(x: Any) -> list[Any]:\n",
    "            return [x] * n\n",
    "\n",
    "        df = pd.DataFrame(\n",
    "            {\n",
    "                \"bbob_function\": tovec(fid),\n",
    "                \"bbob_instance\": tovec(inst),\n",
    "                \"bbob_dimension\": tovec(dim),\n",
    "                \"point_id\": np.arange(0, len(X)),\n",
    "                \"search_point\": X_str,\n",
    "                \"fitness\": Y,\n",
    "                \"optimum\": tovec(optimum),\n",
    "                \"regret\": regret,\n",
    "                \"seed\": tovec(seed),\n",
    "            }\n",
    "        )\n",
    "        new_df.append(df)\n",
    "    df = pd.concat(new_df).reset_index(drop=True)\n",
    "    return df\n",
    "\n",
    "\n",
    "df = add_fitness_to_init_designs(init_designs=init_designs)\n",
    "df.to_csv(fn_initial_design, index=False)"
   ]
  },
  {
   "cell_type": "markdown",
   "metadata": {
    "collapsed": false,
    "pycharm": {
     "name": "#%% md\n"
    }
   },
   "source": [
    "# Plot\n",
    "## Aggregate"
   ]
  },
  {
   "cell_type": "code",
   "execution_count": 3,
   "metadata": {
    "collapsed": false,
    "pycharm": {
     "name": "#%%\n"
    }
   },
   "outputs": [
    {
     "name": "stderr",
     "output_type": "stream",
     "text": [
      "/home/benjamin/.conda/envs/dacbo/lib/python3.10/site-packages/numpy/core/getlimits.py:500: UserWarning: The value of the smallest subnormal for <class 'numpy.float64'> type is zero.\n",
      "  setattr(self, word, getattr(machar, word).flat[0])\n",
      "/home/benjamin/.conda/envs/dacbo/lib/python3.10/site-packages/numpy/core/getlimits.py:89: UserWarning: The value of the smallest subnormal for <class 'numpy.float64'> type is zero.\n",
      "  return self._float_to_str(self.smallest_subnormal)\n",
      "/home/benjamin/.conda/envs/dacbo/lib/python3.10/site-packages/numpy/core/getlimits.py:500: UserWarning: The value of the smallest subnormal for <class 'numpy.float32'> type is zero.\n",
      "  setattr(self, word, getattr(machar, word).flat[0])\n",
      "/home/benjamin/.conda/envs/dacbo/lib/python3.10/site-packages/numpy/core/getlimits.py:89: UserWarning: The value of the smallest subnormal for <class 'numpy.float32'> type is zero.\n",
      "  return self._float_to_str(self.smallest_subnormal)\n",
      "/tmp/ipykernel_29759/1219135803.py:10: FutureWarning: In a future version of pandas, a length 1 tuple will be returned when iterating over a groupby with a grouper equal to a list of length 1. Don't supply a list with a single grouper to avoid this warning.\n",
      "  for group_id, group_df in groups:\n"
     ]
    },
    {
     "data": {
      "image/png": "[encoded data removed]",
      "text/plain": [
       "<Figure size 640x480 with 1 Axes>"
      ]
     },
     "metadata": {},
     "output_type": "display_data"
    },
    {
     "ename": "KeyboardInterrupt",
     "evalue": "",
     "output_type": "error",
     "traceback": [
      "\u001b[0;31m---------------------------------------------------------------------------\u001b[0m",
      "\u001b[0;31mKeyboardInterrupt\u001b[0m                         Traceback (most recent call last)",
      "Cell \u001b[0;32mIn [3], line 20\u001b[0m\n\u001b[1;32m     17\u001b[0m \u001b[39m# plot_return(data=group_df, title=title)\u001b[39;00m\n\u001b[1;32m     18\u001b[0m \u001b[39m# plot_reward_over_steps(data=group_df, title=title)\u001b[39;00m\n\u001b[1;32m     19\u001b[0m plot_final_regret(data\u001b[39m=\u001b[39mgroup_df, title\u001b[39m=\u001b[39mtitle, yname\u001b[39m=\u001b[39m\u001b[39m\"\u001b[39m\u001b[39mregret_log_scaled\u001b[39m\u001b[39m\"\u001b[39m, outdir\u001b[39m=\u001b[39mfigoutdir)\n\u001b[0;32m---> 20\u001b[0m plot_regret_over_steps(data\u001b[39m=\u001b[39;49mgroup_df, title\u001b[39m=\u001b[39;49mtitle, yname\u001b[39m=\u001b[39;49m\u001b[39m\"\u001b[39;49m\u001b[39mregret_log_scaled\u001b[39;49m\u001b[39m\"\u001b[39;49m, errorbar\u001b[39m=\u001b[39;49m\u001b[39m\"\u001b[39;49m\u001b[39mci\u001b[39;49m\u001b[39m\"\u001b[39;49m, outdir\u001b[39m=\u001b[39;49mfigoutdir)\n",
      "File \u001b[0;32m~/Dokumente/code/tmp/DAC-BO/evaluation/plot_utils.py:126\u001b[0m, in \u001b[0;36mplot_regret_over_steps\u001b[0;34m(data, title, yname, errorbar, outdir, hue_order)\u001b[0m\n\u001b[1;32m    123\u001b[0m n_steps \u001b[39m=\u001b[39m data[\u001b[39m\"\u001b[39m\u001b[39mstep\u001b[39m\u001b[39m\"\u001b[39m]\u001b[39m.\u001b[39mmax()\n\u001b[1;32m    124\u001b[0m x \u001b[39m=\u001b[39m [n_steps \u001b[39m*\u001b[39m k \u001b[39mfor\u001b[39;00m k \u001b[39min\u001b[39;00m [\u001b[39m0.25\u001b[39m, \u001b[39m0.5\u001b[39m, \u001b[39m0.75\u001b[39m]]\n\u001b[0;32m--> 126\u001b[0m ax \u001b[39m=\u001b[39m sns\u001b[39m.\u001b[39;49mlineplot(\n\u001b[1;32m    127\u001b[0m     data\u001b[39m=\u001b[39;49mdata,\n\u001b[1;32m    128\u001b[0m     x\u001b[39m=\u001b[39;49m\u001b[39m\"\u001b[39;49m\u001b[39mstep\u001b[39;49m\u001b[39m\"\u001b[39;49m,\n\u001b[1;32m    129\u001b[0m     y\u001b[39m=\u001b[39;49myname,\n\u001b[1;32m    130\u001b[0m     hue\u001b[39m=\u001b[39;49m\u001b[39m\"\u001b[39;49m\u001b[39mpolicy_name\u001b[39;49m\u001b[39m\"\u001b[39;49m,\n\u001b[1;32m    131\u001b[0m     ax\u001b[39m=\u001b[39;49max,\n\u001b[1;32m    132\u001b[0m     palette\u001b[39m=\u001b[39;49mget_color_palette(data),\n\u001b[1;32m    133\u001b[0m     errorbar\u001b[39m=\u001b[39;49merrorbar,\n\u001b[1;32m    134\u001b[0m     hue_order\u001b[39m=\u001b[39;49mhue_order,\n\u001b[1;32m    135\u001b[0m )\n\u001b[1;32m    136\u001b[0m \u001b[39mif\u001b[39;00m \u001b[39mnot\u001b[39;00m \u001b[39m\"\u001b[39m\u001b[39mlog\u001b[39m\u001b[39m\"\u001b[39m \u001b[39min\u001b[39;00m yname:\n\u001b[1;32m    137\u001b[0m     ax\u001b[39m.\u001b[39mset_yscale(\u001b[39m\"\u001b[39m\u001b[39mlog\u001b[39m\u001b[39m\"\u001b[39m)\n",
      "File \u001b[0;32m~/.conda/envs/dacbo/lib/python3.10/site-packages/seaborn/relational.py:639\u001b[0m, in \u001b[0;36mlineplot\u001b[0;34m(data, x, y, hue, size, style, units, palette, hue_order, hue_norm, sizes, size_order, size_norm, dashes, markers, style_order, estimator, errorbar, n_boot, seed, orient, sort, err_style, err_kws, legend, ci, ax, **kwargs)\u001b[0m\n\u001b[1;32m    636\u001b[0m color \u001b[39m=\u001b[39m kwargs\u001b[39m.\u001b[39mpop(\u001b[39m\"\u001b[39m\u001b[39mcolor\u001b[39m\u001b[39m\"\u001b[39m, kwargs\u001b[39m.\u001b[39mpop(\u001b[39m\"\u001b[39m\u001b[39mc\u001b[39m\u001b[39m\"\u001b[39m, \u001b[39mNone\u001b[39;00m))\n\u001b[1;32m    637\u001b[0m kwargs[\u001b[39m\"\u001b[39m\u001b[39mcolor\u001b[39m\u001b[39m\"\u001b[39m] \u001b[39m=\u001b[39m _default_color(ax\u001b[39m.\u001b[39mplot, hue, color, kwargs)\n\u001b[0;32m--> 639\u001b[0m p\u001b[39m.\u001b[39;49mplot(ax, kwargs)\n\u001b[1;32m    640\u001b[0m \u001b[39mreturn\u001b[39;00m ax\n",
      "File \u001b[0;32m~/.conda/envs/dacbo/lib/python3.10/site-packages/seaborn/relational.py:438\u001b[0m, in \u001b[0;36m_LinePlotter.plot\u001b[0;34m(self, ax, kws)\u001b[0m\n\u001b[1;32m    435\u001b[0m     grouped \u001b[39m=\u001b[39m sub_data\u001b[39m.\u001b[39mgroupby(orient, sort\u001b[39m=\u001b[39m\u001b[39mself\u001b[39m\u001b[39m.\u001b[39msort)\n\u001b[1;32m    436\u001b[0m     \u001b[39m# Could pass as_index=False instead of reset_index,\u001b[39;00m\n\u001b[1;32m    437\u001b[0m     \u001b[39m# but that fails on a corner case with older pandas.\u001b[39;00m\n\u001b[0;32m--> 438\u001b[0m     sub_data \u001b[39m=\u001b[39m grouped\u001b[39m.\u001b[39;49mapply(agg, other)\u001b[39m.\u001b[39mreset_index()\n\u001b[1;32m    440\u001b[0m \u001b[39m# TODO this is pretty ad hoc ; see GH2409\u001b[39;00m\n\u001b[1;32m    441\u001b[0m \u001b[39mfor\u001b[39;00m var \u001b[39min\u001b[39;00m \u001b[39m\"\u001b[39m\u001b[39mxy\u001b[39m\u001b[39m\"\u001b[39m:\n",
      "File \u001b[0;32m~/.conda/envs/dacbo/lib/python3.10/site-packages/pandas/core/groupby/groupby.py:1558\u001b[0m, in \u001b[0;36mGroupBy.apply\u001b[0;34m(self, func, *args, **kwargs)\u001b[0m\n\u001b[1;32m   1556\u001b[0m \u001b[39mwith\u001b[39;00m option_context(\u001b[39m\"\u001b[39m\u001b[39mmode.chained_assignment\u001b[39m\u001b[39m\"\u001b[39m, \u001b[39mNone\u001b[39;00m):\n\u001b[1;32m   1557\u001b[0m     \u001b[39mtry\u001b[39;00m:\n\u001b[0;32m-> 1558\u001b[0m         result \u001b[39m=\u001b[39m \u001b[39mself\u001b[39;49m\u001b[39m.\u001b[39;49m_python_apply_general(f, \u001b[39mself\u001b[39;49m\u001b[39m.\u001b[39;49m_selected_obj)\n\u001b[1;32m   1559\u001b[0m     \u001b[39mexcept\u001b[39;00m \u001b[39mTypeError\u001b[39;00m:\n\u001b[1;32m   1560\u001b[0m         \u001b[39m# gh-20949\u001b[39;00m\n\u001b[1;32m   1561\u001b[0m         \u001b[39m# try again, with .apply acting as a filtering\u001b[39;00m\n\u001b[0;32m   (...)\u001b[0m\n\u001b[1;32m   1565\u001b[0m         \u001b[39m# fails on *some* columns, e.g. a numeric operation\u001b[39;00m\n\u001b[1;32m   1566\u001b[0m         \u001b[39m# on a string grouper column\u001b[39;00m\n\u001b[1;32m   1568\u001b[0m         \u001b[39mwith\u001b[39;00m \u001b[39mself\u001b[39m\u001b[39m.\u001b[39m_group_selection_context():\n",
      "File \u001b[0;32m~/.conda/envs/dacbo/lib/python3.10/site-packages/pandas/core/groupby/groupby.py:1610\u001b[0m, in \u001b[0;36mGroupBy._python_apply_general\u001b[0;34m(self, f, data, not_indexed_same, is_transform, is_agg)\u001b[0m\n\u001b[1;32m   1573\u001b[0m \u001b[39m@final\u001b[39m\n\u001b[1;32m   1574\u001b[0m \u001b[39mdef\u001b[39;00m \u001b[39m_python_apply_general\u001b[39m(\n\u001b[1;32m   1575\u001b[0m     \u001b[39mself\u001b[39m,\n\u001b[0;32m   (...)\u001b[0m\n\u001b[1;32m   1580\u001b[0m     is_agg: \u001b[39mbool\u001b[39m \u001b[39m=\u001b[39m \u001b[39mFalse\u001b[39;00m,\n\u001b[1;32m   1581\u001b[0m ) \u001b[39m-\u001b[39m\u001b[39m>\u001b[39m NDFrameT:\n\u001b[1;32m   1582\u001b[0m     \u001b[39m\"\"\"\u001b[39;00m\n\u001b[1;32m   1583\u001b[0m \u001b[39m    Apply function f in python space\u001b[39;00m\n\u001b[1;32m   1584\u001b[0m \n\u001b[0;32m   (...)\u001b[0m\n\u001b[1;32m   1608\u001b[0m \u001b[39m        data after applying f\u001b[39;00m\n\u001b[1;32m   1609\u001b[0m \u001b[39m    \"\"\"\u001b[39;00m\n\u001b[0;32m-> 1610\u001b[0m     values, mutated \u001b[39m=\u001b[39m \u001b[39mself\u001b[39;49m\u001b[39m.\u001b[39;49mgrouper\u001b[39m.\u001b[39;49mapply(f, data, \u001b[39mself\u001b[39;49m\u001b[39m.\u001b[39;49maxis)\n\u001b[1;32m   1611\u001b[0m     \u001b[39mif\u001b[39;00m not_indexed_same \u001b[39mis\u001b[39;00m \u001b[39mNone\u001b[39;00m:\n\u001b[1;32m   1612\u001b[0m         not_indexed_same \u001b[39m=\u001b[39m mutated \u001b[39mor\u001b[39;00m \u001b[39mself\u001b[39m\u001b[39m.\u001b[39mmutated\n",
      "File \u001b[0;32m~/.conda/envs/dacbo/lib/python3.10/site-packages/pandas/core/groupby/ops.py:839\u001b[0m, in \u001b[0;36mBaseGrouper.apply\u001b[0;34m(self, f, data, axis)\u001b[0m\n\u001b[1;32m    837\u001b[0m \u001b[39m# group might be modified\u001b[39;00m\n\u001b[1;32m    838\u001b[0m group_axes \u001b[39m=\u001b[39m group\u001b[39m.\u001b[39maxes\n\u001b[0;32m--> 839\u001b[0m res \u001b[39m=\u001b[39m f(group)\n\u001b[1;32m    840\u001b[0m \u001b[39mif\u001b[39;00m \u001b[39mnot\u001b[39;00m mutated \u001b[39mand\u001b[39;00m \u001b[39mnot\u001b[39;00m _is_indexed_like(res, group_axes, axis):\n\u001b[1;32m    841\u001b[0m     mutated \u001b[39m=\u001b[39m \u001b[39mTrue\u001b[39;00m\n",
      "File \u001b[0;32m~/.conda/envs/dacbo/lib/python3.10/site-packages/pandas/core/groupby/groupby.py:1541\u001b[0m, in \u001b[0;36mGroupBy.apply.<locals>.f\u001b[0;34m(g)\u001b[0m\n\u001b[1;32m   1538\u001b[0m \u001b[39m@wraps\u001b[39m(func)\n\u001b[1;32m   1539\u001b[0m \u001b[39mdef\u001b[39;00m \u001b[39mf\u001b[39m(g):\n\u001b[1;32m   1540\u001b[0m     \u001b[39mwith\u001b[39;00m np\u001b[39m.\u001b[39merrstate(\u001b[39mall\u001b[39m\u001b[39m=\u001b[39m\u001b[39m\"\u001b[39m\u001b[39mignore\u001b[39m\u001b[39m\"\u001b[39m):\n\u001b[0;32m-> 1541\u001b[0m         \u001b[39mreturn\u001b[39;00m func(g, \u001b[39m*\u001b[39;49margs, \u001b[39m*\u001b[39;49m\u001b[39m*\u001b[39;49mkwargs)\n",
      "File \u001b[0;32m~/.conda/envs/dacbo/lib/python3.10/site-packages/seaborn/_statistics.py:511\u001b[0m, in \u001b[0;36mEstimateAggregator.__call__\u001b[0;34m(self, data, var)\u001b[0m\n\u001b[1;32m    509\u001b[0m \u001b[39melif\u001b[39;00m \u001b[39mself\u001b[39m\u001b[39m.\u001b[39merror_method \u001b[39m==\u001b[39m \u001b[39m\"\u001b[39m\u001b[39mci\u001b[39m\u001b[39m\"\u001b[39m:\n\u001b[1;32m    510\u001b[0m     units \u001b[39m=\u001b[39m data\u001b[39m.\u001b[39mget(\u001b[39m\"\u001b[39m\u001b[39munits\u001b[39m\u001b[39m\"\u001b[39m, \u001b[39mNone\u001b[39;00m)\n\u001b[0;32m--> 511\u001b[0m     boots \u001b[39m=\u001b[39m bootstrap(vals, units\u001b[39m=\u001b[39;49munits, func\u001b[39m=\u001b[39;49m\u001b[39mself\u001b[39;49m\u001b[39m.\u001b[39;49mestimator, \u001b[39m*\u001b[39;49m\u001b[39m*\u001b[39;49m\u001b[39mself\u001b[39;49m\u001b[39m.\u001b[39;49mboot_kws)\n\u001b[1;32m    512\u001b[0m     err_min, err_max \u001b[39m=\u001b[39m _percentile_interval(boots, \u001b[39mself\u001b[39m\u001b[39m.\u001b[39merror_level)\n\u001b[1;32m    514\u001b[0m \u001b[39mreturn\u001b[39;00m pd\u001b[39m.\u001b[39mSeries({var: estimate, \u001b[39mf\u001b[39m\u001b[39m\"\u001b[39m\u001b[39m{\u001b[39;00mvar\u001b[39m}\u001b[39;00m\u001b[39mmin\u001b[39m\u001b[39m\"\u001b[39m: err_min, \u001b[39mf\u001b[39m\u001b[39m\"\u001b[39m\u001b[39m{\u001b[39;00mvar\u001b[39m}\u001b[39;00m\u001b[39mmax\u001b[39m\u001b[39m\"\u001b[39m: err_max})\n",
      "File \u001b[0;32m~/.conda/envs/dacbo/lib/python3.10/site-packages/seaborn/algorithms.py:96\u001b[0m, in \u001b[0;36mbootstrap\u001b[0;34m(*args, **kwargs)\u001b[0m\n\u001b[1;32m     94\u001b[0m boot_dist \u001b[39m=\u001b[39m []\n\u001b[1;32m     95\u001b[0m \u001b[39mfor\u001b[39;00m i \u001b[39min\u001b[39;00m \u001b[39mrange\u001b[39m(\u001b[39mint\u001b[39m(n_boot)):\n\u001b[0;32m---> 96\u001b[0m     resampler \u001b[39m=\u001b[39m integers(\u001b[39m0\u001b[39;49m, n, n, dtype\u001b[39m=\u001b[39;49mnp\u001b[39m.\u001b[39;49mintp)  \u001b[39m# intp is indexing dtype\u001b[39;00m\n\u001b[1;32m     97\u001b[0m     sample \u001b[39m=\u001b[39m [a\u001b[39m.\u001b[39mtake(resampler, axis\u001b[39m=\u001b[39m\u001b[39m0\u001b[39m) \u001b[39mfor\u001b[39;00m a \u001b[39min\u001b[39;00m args]\n\u001b[1;32m     98\u001b[0m     boot_dist\u001b[39m.\u001b[39mappend(f(\u001b[39m*\u001b[39msample, \u001b[39m*\u001b[39m\u001b[39m*\u001b[39mfunc_kwargs))\n",
      "\u001b[0;31mKeyboardInterrupt\u001b[0m: "
     ]
    },
    {
     "data": {
      "image/png": "[encoded data removed]",
      "text/plain": [
       "<Figure size 640x480 with 1 Axes>"
      ]
     },
     "metadata": {},
     "output_type": "display_data"
    }
   ],
   "source": [
    "from plot_utils import *\n",
    "import seaborn as sns\n",
    "import pandas as pd\n",
    "\n",
    "df = pd.read_csv(fn_rollout_data)\n",
    "\n",
    "\n",
    "group_keys = [\"bbob_dimension\"]  # , \"bbob_function\"]\n",
    "groups = df.groupby(by=group_keys)\n",
    "for group_id, group_df in groups:\n",
    "    if type(group_id) != list:\n",
    "        group_id = [group_id]\n",
    "    if group_id[0] != 5:\n",
    "        continue\n",
    "    sns.set_style(\"whitegrid\")\n",
    "    title = get_group_title(group_keys=group_keys, group_id=group_id)\n",
    "    # plot_return(data=group_df, title=title)\n",
    "    # plot_reward_over_steps(data=group_df, title=title)\n",
    "    plot_final_regret(data=group_df, title=title, yname=\"regret_log_scaled\", outdir=figoutdir)\n",
    "    plot_regret_over_steps(data=group_df, title=title, yname=\"regret_log_scaled\", errorbar=\"ci\", outdir=figoutdir)"
   ]
  },
  {
   "cell_type": "markdown",
   "metadata": {
    "collapsed": false,
    "pycharm": {
     "name": "#%% md\n"
    }
   },
   "source": [
    "## Per BBOB Function"
   ]
  },
  {
   "cell_type": "code",
   "execution_count": null,
   "metadata": {
    "collapsed": false,
    "pycharm": {
     "name": "#%%\n"
    }
   },
   "outputs": [],
   "source": [
    "from plot_utils import *\n",
    "import seaborn as sns\n",
    "import pandas as pd\n",
    "\n",
    "df = pd.read_csv(fn_rollout_data)\n",
    "sns.set_style(\"whitegrid\")\n",
    "sns.set_palette(\"colorblind\")\n",
    "df.columns\n",
    "group_keys = [\"bbob_dimension\", \"bbob_function\"]\n",
    "groups = df.groupby(by=group_keys)\n",
    "for group_id, group_df in groups:\n",
    "    if type(group_id) != tuple:\n",
    "        group_id = [group_id]\n",
    "    if group_id[0] != 5:\n",
    "        continue\n",
    "    title = get_group_title(group_keys=group_keys, group_id=group_id)\n",
    "    # plot_return(data=group_df, title=title)\n",
    "    # plot_reward_over_steps(data=group_df, title=title)\n",
    "    plot_final_regret(data=group_df, title=title, yname=\"regret_log_scaled\", outdir=figoutdir)\n",
    "    plot_regret_over_steps(data=group_df, title=title, yname=\"regret_log_scaled\", errorbar=\"ci\", outdir=figoutdir)"
   ]
  },
  {
   "cell_type": "markdown",
   "metadata": {
    "collapsed": false,
    "pycharm": {
     "name": "#%% md\n"
    }
   },
   "source": [
    "## All Seeds per Schedule"
   ]
  },
  {
   "cell_type": "code",
   "execution_count": null,
   "metadata": {
    "collapsed": false,
    "pycharm": {
     "name": "#%%\n"
    }
   },
   "outputs": [],
   "source": [
    "from plot_utils import *\n",
    "import seaborn as sns\n",
    "import pandas as pd\n",
    "\n",
    "df = pd.read_csv(fn_rollout_data)\n",
    "data = df[df[\"bbob_dimension\"] == 5]\n",
    "group_keys = [\"bbob_function\"]\n",
    "groups = data.groupby(by=group_keys)\n",
    "for group_id, group_df in groups:\n",
    "    if type(group_id) != tuple:\n",
    "        group_id = [group_id]\n",
    "    title = get_group_title(group_keys=group_keys, group_id=group_id)\n",
    "    print(title)\n",
    "    yname = \"regret_log_scaled\"\n",
    "    errorbar = \"sd\"\n",
    "    plot_regret_all_samples(data=group_df, title=title, yname=yname, errorbar=errorbar, outdir=figoutdir)"
   ]
  }
 ],
 "metadata": {
  "kernelspec": {
   "display_name": "Python 3.10.4 ('dacbo')",
   "language": "python",
   "name": "python3"
  },
  "language_info": {
   "codemirror_mode": {
    "name": "ipython",
    "version": 3
   },
   "file_extension": ".py",
   "mimetype": "text/x-python",
   "name": "python",
   "nbconvert_exporter": "python",
   "pygments_lexer": "ipython3",
   "version": "3.10.4"
  },
  "vscode": {
   "interpreter": {
    "hash": "876ed21fdf8ba8f79bc25003588a11f64d3b3845d14cc4895af132a2cdc3c4f7"
   }
  }
 },
 "nbformat": 4,
 "nbformat_minor": 4
}
